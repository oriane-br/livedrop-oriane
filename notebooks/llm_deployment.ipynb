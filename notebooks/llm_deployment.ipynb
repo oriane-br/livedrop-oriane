{
  "nbformat": 4,
  "nbformat_minor": 0,
  "metadata": {
    "colab": {
      "provenance": []
    },
    "kernelspec": {
      "name": "python3",
      "display_name": "Python 3"
    },
    "language_info": {
      "name": "python"
    }
  },
  "cells": [
    {
      "cell_type": "code",
      "source": [
        "# Cell 1: Install Minimal Dependencies\n",
        "!pip install transformers torch flask pyngrok requests\n",
        "\n",
        "print(\"✅ Dependencies installed\")\n"
      ],
      "metadata": {
        "colab": {
          "base_uri": "https://localhost:8080/"
        },
        "id": "qCsDvKqAU7u7",
        "outputId": "d57dc05f-3cf4-4109-f639-f2253d13b6e0"
      },
      "execution_count": 1,
      "outputs": [
        {
          "output_type": "stream",
          "name": "stdout",
          "text": [
            "Requirement already satisfied: transformers in /usr/local/lib/python3.12/dist-packages (4.57.1)\n",
            "Requirement already satisfied: torch in /usr/local/lib/python3.12/dist-packages (2.8.0+cu126)\n",
            "Requirement already satisfied: flask in /usr/local/lib/python3.12/dist-packages (3.1.2)\n",
            "Requirement already satisfied: pyngrok in /usr/local/lib/python3.12/dist-packages (7.4.0)\n",
            "Requirement already satisfied: requests in /usr/local/lib/python3.12/dist-packages (2.32.4)\n",
            "Requirement already satisfied: filelock in /usr/local/lib/python3.12/dist-packages (from transformers) (3.20.0)\n",
            "Requirement already satisfied: huggingface-hub<1.0,>=0.34.0 in /usr/local/lib/python3.12/dist-packages (from transformers) (0.35.3)\n",
            "Requirement already satisfied: numpy>=1.17 in /usr/local/lib/python3.12/dist-packages (from transformers) (2.0.2)\n",
            "Requirement already satisfied: packaging>=20.0 in /usr/local/lib/python3.12/dist-packages (from transformers) (25.0)\n",
            "Requirement already satisfied: pyyaml>=5.1 in /usr/local/lib/python3.12/dist-packages (from transformers) (6.0.3)\n",
            "Requirement already satisfied: regex!=2019.12.17 in /usr/local/lib/python3.12/dist-packages (from transformers) (2024.11.6)\n",
            "Requirement already satisfied: tokenizers<=0.23.0,>=0.22.0 in /usr/local/lib/python3.12/dist-packages (from transformers) (0.22.1)\n",
            "Requirement already satisfied: safetensors>=0.4.3 in /usr/local/lib/python3.12/dist-packages (from transformers) (0.6.2)\n",
            "Requirement already satisfied: tqdm>=4.27 in /usr/local/lib/python3.12/dist-packages (from transformers) (4.67.1)\n",
            "Requirement already satisfied: typing-extensions>=4.10.0 in /usr/local/lib/python3.12/dist-packages (from torch) (4.15.0)\n",
            "Requirement already satisfied: setuptools in /usr/local/lib/python3.12/dist-packages (from torch) (75.2.0)\n",
            "Requirement already satisfied: sympy>=1.13.3 in /usr/local/lib/python3.12/dist-packages (from torch) (1.13.3)\n",
            "Requirement already satisfied: networkx in /usr/local/lib/python3.12/dist-packages (from torch) (3.5)\n",
            "Requirement already satisfied: jinja2 in /usr/local/lib/python3.12/dist-packages (from torch) (3.1.6)\n",
            "Requirement already satisfied: fsspec in /usr/local/lib/python3.12/dist-packages (from torch) (2025.3.0)\n",
            "Requirement already satisfied: nvidia-cuda-nvrtc-cu12==12.6.77 in /usr/local/lib/python3.12/dist-packages (from torch) (12.6.77)\n",
            "Requirement already satisfied: nvidia-cuda-runtime-cu12==12.6.77 in /usr/local/lib/python3.12/dist-packages (from torch) (12.6.77)\n",
            "Requirement already satisfied: nvidia-cuda-cupti-cu12==12.6.80 in /usr/local/lib/python3.12/dist-packages (from torch) (12.6.80)\n",
            "Requirement already satisfied: nvidia-cudnn-cu12==9.10.2.21 in /usr/local/lib/python3.12/dist-packages (from torch) (9.10.2.21)\n",
            "Requirement already satisfied: nvidia-cublas-cu12==12.6.4.1 in /usr/local/lib/python3.12/dist-packages (from torch) (12.6.4.1)\n",
            "Requirement already satisfied: nvidia-cufft-cu12==11.3.0.4 in /usr/local/lib/python3.12/dist-packages (from torch) (11.3.0.4)\n",
            "Requirement already satisfied: nvidia-curand-cu12==10.3.7.77 in /usr/local/lib/python3.12/dist-packages (from torch) (10.3.7.77)\n",
            "Requirement already satisfied: nvidia-cusolver-cu12==11.7.1.2 in /usr/local/lib/python3.12/dist-packages (from torch) (11.7.1.2)\n",
            "Requirement already satisfied: nvidia-cusparse-cu12==12.5.4.2 in /usr/local/lib/python3.12/dist-packages (from torch) (12.5.4.2)\n",
            "Requirement already satisfied: nvidia-cusparselt-cu12==0.7.1 in /usr/local/lib/python3.12/dist-packages (from torch) (0.7.1)\n",
            "Requirement already satisfied: nvidia-nccl-cu12==2.27.3 in /usr/local/lib/python3.12/dist-packages (from torch) (2.27.3)\n",
            "Requirement already satisfied: nvidia-nvtx-cu12==12.6.77 in /usr/local/lib/python3.12/dist-packages (from torch) (12.6.77)\n",
            "Requirement already satisfied: nvidia-nvjitlink-cu12==12.6.85 in /usr/local/lib/python3.12/dist-packages (from torch) (12.6.85)\n",
            "Requirement already satisfied: nvidia-cufile-cu12==1.11.1.6 in /usr/local/lib/python3.12/dist-packages (from torch) (1.11.1.6)\n",
            "Requirement already satisfied: triton==3.4.0 in /usr/local/lib/python3.12/dist-packages (from torch) (3.4.0)\n",
            "Requirement already satisfied: blinker>=1.9.0 in /usr/local/lib/python3.12/dist-packages (from flask) (1.9.0)\n",
            "Requirement already satisfied: click>=8.1.3 in /usr/local/lib/python3.12/dist-packages (from flask) (8.3.0)\n",
            "Requirement already satisfied: itsdangerous>=2.2.0 in /usr/local/lib/python3.12/dist-packages (from flask) (2.2.0)\n",
            "Requirement already satisfied: markupsafe>=2.1.1 in /usr/local/lib/python3.12/dist-packages (from flask) (3.0.3)\n",
            "Requirement already satisfied: werkzeug>=3.1.0 in /usr/local/lib/python3.12/dist-packages (from flask) (3.1.3)\n",
            "Requirement already satisfied: charset_normalizer<4,>=2 in /usr/local/lib/python3.12/dist-packages (from requests) (3.4.4)\n",
            "Requirement already satisfied: idna<4,>=2.5 in /usr/local/lib/python3.12/dist-packages (from requests) (3.11)\n",
            "Requirement already satisfied: urllib3<3,>=1.21.1 in /usr/local/lib/python3.12/dist-packages (from requests) (2.5.0)\n",
            "Requirement already satisfied: certifi>=2017.4.17 in /usr/local/lib/python3.12/dist-packages (from requests) (2025.10.5)\n",
            "Requirement already satisfied: hf-xet<2.0.0,>=1.1.3 in /usr/local/lib/python3.12/dist-packages (from huggingface-hub<1.0,>=0.34.0->transformers) (1.1.10)\n",
            "Requirement already satisfied: mpmath<1.4,>=1.1.0 in /usr/local/lib/python3.12/dist-packages (from sympy>=1.13.3->torch) (1.3.0)\n",
            "✅ Dependencies installed\n"
          ]
        }
      ]
    },
    {
      "cell_type": "code",
      "source": [
        "# Cell 2: Import Libraries\n",
        "from transformers import AutoTokenizer, AutoModelForCausalLM\n",
        "import torch\n",
        "from flask import Flask, request, jsonify\n",
        "from pyngrok import ngrok\n",
        "import threading\n",
        "import time\n",
        "import requests\n",
        "\n",
        "print(\"✅ Libraries imported\")\n"
      ],
      "metadata": {
        "colab": {
          "base_uri": "https://localhost:8080/"
        },
        "id": "gx4k9KnIVDUu",
        "outputId": "ecc22b9a-a49c-49c7-ccda-afdf0a8a856a"
      },
      "execution_count": 2,
      "outputs": [
        {
          "output_type": "stream",
          "name": "stdout",
          "text": [
            "✅ Libraries imported\n"
          ]
        }
      ]
    },
    {
      "cell_type": "code",
      "source": [
        "# Cell 3: Load Your YAML Prompts (Embedded directly)\n",
        "prompts_config = {\n",
        "    \"version\": \"1.0\",\n",
        "    \"created\": \"2025-09-23\",\n",
        "    \"author\": \"Oriane Barakat Rahmeh\",\n",
        "\n",
        "    \"base_retrieval_prompt\": {\n",
        "        \"description\": \"Standard prompt for straightforward questions with clear context\",\n",
        "        \"role\": \"You are a precise Shoplite customer service assistant with access to official documentation.\",\n",
        "        \"goal\": \"Provide accurate, concise answers using only the provided context from Shoplite documentation.\",\n",
        "        \"context_guidelines\": [\n",
        "            \"Use ONLY information from the provided document snippets\",\n",
        "            \"If the context doesn't contain relevant information, politely decline to answer\",\n",
        "            \"Cite specific document titles when referencing information\",\n",
        "            \"Be factual and avoid speculation\",\n",
        "            \"Maintain a helpful and professional tone\"\n",
        "        ],\n",
        "        \"response_format\": \"Answer: [Your response based strictly on the provided context]\\nSources: [List the document titles referenced]\\nConfidence: [High/Medium/Low based on context relevance]\"\n",
        "    },\n",
        "\n",
        "    \"complex_question_prompt\": {\n",
        "        \"description\": \"For multi-faceted questions requiring synthesis across documents\",\n",
        "        \"role\": \"You are an expert Shoplite support specialist trained in multi-document analysis and synthesis.\",\n",
        "        \"goal\": \"Solve complex customer questions by reasoning step-by-step and synthesizing information from multiple document sources.\",\n",
        "        \"context_guidelines\": [\n",
        "            \"First, break down the question into sub-questions\",\n",
        "            \"For each sub-question, identify relevant document sections\",\n",
        "            \"Compare information across documents for consistency\",\n",
        "            \"Synthesize a comprehensive answer addressing all aspects\",\n",
        "            \"Acknowledge when information comes from multiple sources\",\n",
        "            \"If documents conflict, note the discrepancy and provide the most common policy\"\n",
        "        ],\n",
        "        \"reasoning_format\": \"Thinking Process:\\n1. Question Analysis: [Break down the complex question into components]\\n2. Document Mapping: [Which documents address each part of the question]\\n3. Information Synthesis: [How the pieces fit together logically]\\n4. Consistency Check: [Verify no contradictions between sources]\\n\\nFinal Answer: [Comprehensive synthesized response]\\nSources Used: [List all document titles referenced]\\nSynthesis Notes: [Any important caveats or integration points]\"\n",
        "    },\n",
        "\n",
        "    \"no_context_prompt\": {\n",
        "        \"description\": \"Handles queries where no relevant context is available\",\n",
        "        \"role\": \"You are a cautious Shoplite assistant who avoids providing unverified information.\",\n",
        "        \"goal\": \"Politely decline to answer when the provided context doesn't contain relevant information, while maintaining helpfulness.\",\n",
        "        \"context_guidelines\": [\n",
        "            \"Do not make up information or use external knowledge\",\n",
        "            \"Clearly state that the information isn't available in Shoplite documentation\",\n",
        "            \"Suggest alternative ways the user might find the information\",\n",
        "            \"Maintain helpful tone while being firm about limitations\",\n",
        "            \"Offer to help with related topics that are covered in the knowledge base\"\n",
        "        ],\n",
        "        \"response_format\": \"I'm unable to answer this question based on the available Shoplite documentation.\\n\\nSuggestion: [Alternative action like contacting support or checking specific resources]\\nAvailable Topics: [List 2-3 related topics that are covered in the knowledge base]\\n\\nPlease rephrase your question or contact Shoplite support for further assistance.\"\n",
        "    },\n",
        "\n",
        "    \"clarification_prompt\": {\n",
        "        \"description\": \"Requests clarification for ambiguous or incomplete questions\",\n",
        "        \"role\": \"You are a detail-oriented Shoplite assistant who asks clarifying questions to provide accurate information.\",\n",
        "        \"goal\": \"Identify ambiguous or incomplete questions and request specific clarification to provide better answers.\",\n",
        "        \"context_guidelines\": [\n",
        "            \"Analyze the question for ambiguity, missing details, or multiple interpretations\",\n",
        "            \"Ask specific, helpful clarifying questions\",\n",
        "            \"Provide examples of what information would help\",\n",
        "            \"Suggest related topics from the knowledge base to guide the user\",\n",
        "            \"Maintain patience and professionalism throughout\"\n",
        "        ],\n",
        "        \"response_format\": \"I want to provide the most accurate information for your question about [topic].\\n\\nTo help you better, could you clarify: [Specific clarifying question]?\\n\\nFor example: [Example of the type of detail needed]\\n\\nRelated topics that might help: [List 2-3 related topics from available documentation]\"\n",
        "    },\n",
        "\n",
        "    \"chain_of_thought_prompt\": {\n",
        "        \"description\": \"Demonstrates step-by-step reasoning for complex queries\",\n",
        "        \"role\": \"You are a methodical Shoplite analyst who reasons through problems step by step using native thinking.\",\n",
        "        \"goal\": \"Demonstrate clear reasoning processes for complex questions, showing your thought process before providing final answers.\",\n",
        "        \"context_guidelines\": [\n",
        "            \"Think through the problem step by step in natural language\",\n",
        "            \"Explicitly state your reasoning at each step\",\n",
        "            \"Reference specific context snippets when making conclusions\",\n",
        "            \"Check for logical consistency throughout your reasoning\",\n",
        "            \"Acknowledge uncertainties or limitations in the available information\"\n",
        "        ],\n",
        "        \"reasoning_chain\": \"Let me think through this step by step:\\n\\nStep 1: Understanding the question - [Restate and analyze the question]\\nStep 2: Identifying relevant information - [Which parts of the context apply]\\nStep 3: Connecting the dots - [How the information answers the question]\\nStep 4: Verification - [Checking for completeness and accuracy]\\n\\nBased on this reasoning:\\nAnswer: [Final comprehensive answer]\\nSources: [Referenced documents with specific relevance]\"\n",
        "    },\n",
        "\n",
        "    \"self_consistency_prompt\": {\n",
        "        \"description\": \"Validates answers through multiple reasoning paths\",\n",
        "        \"role\": \"You are a thorough Shoplite validator who checks answers for consistency across multiple reasoning paths.\",\n",
        "        \"goal\": \"Generate multiple reasoning paths for complex questions and verify they lead to consistent conclusions.\",\n",
        "        \"context_guidelines\": [\n",
        "            \"Generate at least two different reasoning approaches\",\n",
        "            \"Compare conclusions from different reasoning paths\",\n",
        "            \"Resolve any inconsistencies between approaches\",\n",
        "            \"Provide the most consistent and well-supported answer\",\n",
        "            \"Note if different interpretations are possible\"\n",
        "        ],\n",
        "        \"consistency_check\": \"Reasoning Path 1: [First approach to solving the problem]\\nConclusion 1: [Answer from first approach]\\n\\nReasoning Path 2: [Second approach to solving the problem]\\nConclusion 2: [Answer from second approach]\\n\\nConsistency Analysis: [Compare conclusions and resolve differences]\\n\\nFinal Verified Answer: [Most consistent and well-supported conclusion]\\nConfidence Level: [Based on consistency across approaches]\"\n",
        "    },\n",
        "\n",
        "    \"evaluation_ready_prompt\": {\n",
        "        \"description\": \"Optimized for systematic testing and validation\",\n",
        "        \"role\": \"You are a test-ready Shoplite assistant optimized for systematic evaluation.\",\n",
        "        \"goal\": \"Provide responses that are easily evaluatable against ground truth criteria with clear structure.\",\n",
        "        \"context_guidelines\": [\n",
        "            \"Structure responses to match evaluation checklist formats\",\n",
        "            \"Explicitly include required keywords when present in context\",\n",
        "            \"Avoid forbidden terms and content\",\n",
        "            \"Provide clear source attribution for each piece of information\",\n",
        "            \"Maintain consistent response formatting for automated testing\"\n",
        "        ],\n",
        "        \"response_format\": \"Answer: [Response containing required keywords and avoiding forbidden terms]\\n\\nSource Documents: [List of referenced documents with relevance explanation]\\n\\nKeyword Check: [Explicit mention of required keywords from context]\\n\\nConfidence: [High/Medium/Low based on context match]\\n\\nEvaluation Ready: Yes\"\n",
        "    }\n",
        "}\n",
        "\n",
        "print(\"✅ Loaded\", len(prompts_config) - 3, \"prompt configurations\")  # Subtract version, created, author\n",
        "print(\"Available prompt types:\")\n",
        "for key in prompts_config.keys():\n",
        "    if key not in ['version', 'created', 'author']:\n",
        "        print(f\"  - {key}: {prompts_config[key]['description']}\")\n"
      ],
      "metadata": {
        "colab": {
          "base_uri": "https://localhost:8080/"
        },
        "id": "9eeSROa9RoH6",
        "outputId": "d9ee800d-bad6-438e-848b-dc8ebb1a7033"
      },
      "execution_count": 3,
      "outputs": [
        {
          "output_type": "stream",
          "name": "stdout",
          "text": [
            "✅ Loaded 7 prompt configurations\n",
            "Available prompt types:\n",
            "  - base_retrieval_prompt: Standard prompt for straightforward questions with clear context\n",
            "  - complex_question_prompt: For multi-faceted questions requiring synthesis across documents\n",
            "  - no_context_prompt: Handles queries where no relevant context is available\n",
            "  - clarification_prompt: Requests clarification for ambiguous or incomplete questions\n",
            "  - chain_of_thought_prompt: Demonstrates step-by-step reasoning for complex queries\n",
            "  - self_consistency_prompt: Validates answers through multiple reasoning paths\n",
            "  - evaluation_ready_prompt: Optimized for systematic testing and validation\n"
          ]
        }
      ]
    },
    {
      "cell_type": "code",
      "source": [
        "# Cell 4: Complete Knowledge Base (Embedded directly from your documents)\n",
        "knowledge_base = [\n",
        "    {\n",
        "        \"id\": \"doc1\",\n",
        "        \"title\": \"Shoplite User Registration Process\",\n",
        "        \"content\": \"Creating a Shoplite account is designed to be a seamless experience that balances security with user convenience. The registration process begins when users visit the Shoplite homepage or mobile app and click the 'Register' button. Prospective users must provide a valid email address, create a secure password meeting our complexity requirements, and enter basic personal information including first name, last name, and date of birth for age verification purposes. Email verification constitutes a critical security step in our registration workflow. Within minutes of submitting registration details, users receive a verification email containing a unique six-digit code and a verification link. This code must be entered on the verification page or the link clicked to activate the account. Accounts remain in pending status for up to 24 hours awaiting verification, after which unverified registrations are automatically purged from our systems for security and data protection reasons. Users face a fundamental account type decision during registration: buyer accounts versus seller accounts. Standard buyer accounts provide immediate access to Shoplite's comprehensive shopping features upon email verification. These free accounts enable product browsing, purchasing, wishlist creation, and review writing. Seller accounts, conversely, require additional business verification steps including tax identification number validation, business registration document submission, and in some cases, video verification for high-risk categories. The seller verification process typically requires 2-3 business days for completion, during which our dedicated verification team examines submitted documents for authenticity and compliance with marketplace standards.\"\n",
        "    },\n",
        "    {\n",
        "        \"id\": \"doc2\",\n",
        "        \"title\": \"Product Search and Filtering Features\",\n",
        "        \"content\": \"Shoplite's sophisticated search infrastructure combines multiple technologies to deliver highly relevant product discoveries across our extensive marketplace. The primary search interface accepts natural language queries, understanding conversational phrases like 'comfortable running shoes under $100' and translating them into precise product matches. Our search algorithm incorporates multiple ranking signals including product relevance, seller reputation, customer ratings, inventory availability, and promotional status to surface optimal results. Advanced filtering capabilities empower users to narrow search results across numerous dimensions. Price range filters allow setting minimum and maximum thresholds with real-time result updates. Brand filtering supports multi-select functionality, enabling users to include or exclude specific manufacturers. Seller rating filters restrict results to merchants meeting minimum feedback scores, ensuring quality shopping experiences. Product condition filters differentiate between new, refurbished, pre-owned, and open-box items with clear condition descriptions for each category. Specialized filtering options cater to specific product categories and user preferences. Electronics searches can filter by technical specifications like screen size, storage capacity, or processor type. Fashion searches support filtering by size, color, material composition, and clothing style. Home goods searches include filters for dimensions, assembly requirements, and eco-certifications.\"\n",
        "    },\n",
        "    {\n",
        "        \"id\": \"doc3\",\n",
        "        \"title\": \"Shopping Cart and Checkout Process\",\n",
        "        \"content\": \"The Shoplite shopping cart serves as the central hub where users compile potential purchases from multiple sellers within a unified interface. This multi-seller cart technology enables seamless cross-merchant shopping experiences, allowing customers to add products from different vendors while maintaining separate order tracking and shipping arrangements. The cart interface provides comprehensive item details including product images, variant selections, unit pricing, seller information, and estimated delivery timeframes. Cart management features empower users with flexible control over their prospective purchases. Quantity adjustment tools allow modifying item counts with real-time subtotal updates. The 'Save for Later' functionality moves items to a separate wishlist section while preserving selection details for future consideration. The checkout process transitions users from cart compilation to order completion through a streamlined three-step workflow. Step one collects essential shipping information, including address selection from saved profiles or new entry, delivery method preferences balancing speed against cost, and gift wrapping options with personalized message capabilities. Payment method selection constitutes step two of the checkout journey. Users choose from saved payment instruments or add new options, with security indicators reinforcing our PCI DSS compliance. Order review forms the final step, presenting comprehensive purchase summaries including item details, cost breakdowns, delivery estimates, and applied promotions.\"\n",
        "    },\n",
        "    {\n",
        "        \"id\": \"doc4\",\n",
        "        \"title\": \"Payment Methods and Security\",\n",
        "        \"content\": \"Shoplite supports an extensive array of payment options designed to accommodate diverse customer preferences and regional financial ecosystems. Traditional payment instruments include major credit cards (Visa, MasterCard, American Express, Discover), debit cards with credit network logos, and prepaid gift cards. Digital wallet integrations encompass PayPal, Apple Pay, Google Pay, and Samsung Pay, providing streamlined checkout experiences through tokenized payment data. Security constitutes our foundational priority in payment processing. All transactions benefit from PCI DSS Level 1 compliance, the highest certification in payment security standards. Tokenization technology replaces sensitive payment data with unique identification symbols during transmission and storage, ensuring actual card numbers never reside on Shoplite systems. 3D Secure authentication adds an additional verification layer for card-not-present transactions, requiring password entry or biometric confirmation through issuer banking platforms. Encryption protocols protect data throughout the payment lifecycle. Transport Layer Security (TLS) 1.3 encryption secures data in transit between user devices and our payment processors. At rest, payment information receives AES-256 encryption, the same standard used by government agencies for classified information.\"\n",
        "    },\n",
        "    {\n",
        "        \"id\": \"doc5\",\n",
        "        \"title\": \"Order Tracking and Delivery\",\n",
        "        \"content\": \"Order tracking within the Shoplite ecosystem provides comprehensive visibility into purchase journeys from warehouse selection to final delivery. The tracking system initiates upon order confirmation, when automated emails dispatch containing order summaries, estimated delivery timelines, and preliminary tracking information. Within 24 hours of order processing, active tracking numbers become available through the order management interface, connecting to carrier systems for real-time status updates. The order tracking dashboard presents consolidated information through intuitive visual timelines. Key milestones include order confirmation, payment processing, inventory sourcing, packaging completion, carrier handoff, transit initiation, regional facility processing, out-for-delivery status, and successful delivery confirmation. Delivery options span multiple service levels balancing speed against cost considerations. Standard delivery typically completes within 3-7 business days, utilizing ground transportation networks. Express delivery guarantees 1-2 business day delivery through premium carrier services. Same-day delivery options exist in eligible metropolitan areas for orders placed before cutoff times. International delivery timelines extend to 7-14 business days accounting for customs processing, with detailed import duty estimates provided during checkout.\"\n",
        "    },\n",
        "    {\n",
        "        \"id\": \"doc6\",\n",
        "        \"title\": \"Return and Refund Policies\",\n",
        "        \"content\": \"Shoplite's comprehensive return and refund framework balances customer satisfaction with marketplace sustainability. Our standard return policy grants customers a 30-day window from the delivery date to initiate returns for most product categories. This timeframe allows adequate product evaluation while ensuring sellers receive timely inventory returns. To qualify for return, items must maintain original condition with all manufacturer packaging, tags, accessories, and documentation intact. Products showing signs of use, damage, or missing components may receive partial refunds or be ineligible for return based on seller assessment. Category-specific return restrictions protect sellers from abuse while maintaining fair customer treatment. Personalized items including monogrammed products, custom configurations, and made-to-order merchandise typically qualify as final sales. Digital products such as software licenses, e-books, and digital downloads become ineligible once accessed or downloaded. Perishable goods including food, flowers, and certain health supplements cannot be returned for safety reasons. The return initiation process begins through the order history section of user accounts. Customers select the specific items for return, specify reasons from standardized categories, and provide detailed descriptions of any product issues. Refund processing follows strict timelines once returned items pass inspection. Standard refunds typically process within 5-7 business days, though banking institution variations may extend actual fund availability.\"\n",
        "    },\n",
        "    {\n",
        "        \"id\": \"doc7\",\n",
        "        \"title\": \"Product Reviews and Ratings System\",\n",
        "        \"content\": \"Shoplite's review ecosystem cultivates authentic customer feedback while maintaining marketplace integrity. The dual-component rating system combines quantitative star ratings with qualitative written reviews, providing comprehensive product assessments. Star ratings employ a 1-5 scale with clear definitions: 1 star indicates severe dissatisfaction, 2 stars reflects significant issues, 3 stars represents adequate performance, 4 stars denotes above-average quality, and 5 stars signifies exceptional excellence. Review verification mechanisms maintain authenticity throughout the feedback process. The purchase verification system restricts reviews to customers who have actually bought the product through Shoplite, preventing fabricated testimonials. Order confirmation and delivery verification precede review eligibility, typically allowing feedback submission 7-14 days after delivery to ensure adequate product testing. Verified purchase badges distinguish genuine customer reviews from other feedback types, providing credibility indicators for prospective buyers. Multimedia enrichment options enhance review usefulness beyond textual descriptions. Image upload capabilities allow customers to showcase product actual appearance, highlighting details often missing from professional marketing photography. Video reviews demonstrate product functionality, size proportions, and real-world usage scenarios.\"\n",
        "    },\n",
        "    {\n",
        "        \"id\": \"doc8\",\n",
        "        \"title\": \"Seller Account Setup and Management\",\n",
        "        \"content\": \"Seller account establishment on Shoplite involves a comprehensive verification process ensuring marketplace integrity and consumer protection. The initial registration collects fundamental business information including legal business name, physical address, contact details, and tax identification numbers. Business structure classification differentiates between individual proprietors, partnerships, limited liability companies, and corporations, with documentation requirements varying accordingly. Documentation requirements escalate based on business scale and product categories. All sellers must provide government-issued identification matching business registration details. Business registration certificates validate legal entity status, while tax documentation confirms compliance with jurisdictional requirements. High-volume sellers or those in regulated categories (electronics, luxury goods, health products) undergo enhanced verification including bank statements, business location verification, and in some cases, video conference interviews with verification specialists. The verification timeline typically spans 2-3 business days for standard applications, though complex cases or incomplete documentation can extend this period. Account management occurs through the comprehensive seller dashboard, providing centralized control over all business operations. Profile management sections handle business information updates, branding elements, and communication preferences.\"\n",
        "    },\n",
        "    {\n",
        "        \"id\": \"doc9\",\n",
        "        \"title\": \"Inventory Management for Sellers\",\n",
        "        \"content\": \"Shoplite's inventory management system provides sellers with sophisticated tools for stock control across multiple sales channels and fulfillment locations. The centralized inventory dashboard offers real-time visibility into stock levels, with color-coded indicators differentiating adequate inventory (green), low stock warnings (yellow), and out-of-stock situations (red). Automated low stock alerts trigger at customizable thresholds, sending notifications through dashboard, email, and mobile app based on seller preferences. Inventory tracking methodologies accommodate diverse business models and product types. Single SKU tracking suits simple products with no variations, while matrix inventory management handles products with multiple options like size, color, or configuration. Bundle products enable grouping individual SKUs into packaged offerings, with automatic component deduction upon sale. Multi-location inventory management supports sellers operating across warehouses, retail stores, or fulfillment centers. Location-specific stock levels prevent overselling by reserving inventory at the fulfillment point closest to customers. Stock transfer functionality facilitates movement between locations with automated updating of availability estimates. Inventory synchronization maintains consistency across Shoplite and external sales channels through robust API connections.\"\n",
        "    },\n",
        "    {\n",
        "        \"id\": \"doc10\",\n",
        "        \"title\": \"Commission and Fee Structure\",\n",
        "        \"content\": \"Shoplite's revenue model uses tiered commissions varying by product category and seller volume. Base rates range from 8-15% of final sale prices, excluding taxes and shipping. Category specifics include Electronics (8%), Fashion (12%), Home Goods (10%), and Luxury Items (15%). These percentages cover payment processing, platform maintenance, and customer service infrastructure. Seller tiers provide commission reductions based on performance. Starter tier (0-50 monthly orders) pays standard rates. Professional tier (51-500 orders) receives 1% reduction, while Enterprise tier (500+ orders) gets 2% reduction. Monthly tier reviews automatically adjust commission rates for qualifying sellers. Additional fees include payment processing (2.9% + $0.30 per transaction for credit cards) and subscription fees for advanced tiers ($29.99 monthly for Professional, $79.99 for Enterprise). Fee transparency mechanisms ensure sellers understand costs before transactions. Real-time fee calculators during product listing provide commission estimates. Order detail pages break down exact fee calculations post-transaction. Monthly statements consolidate all charges with clear categorization.\"\n",
        "    },\n",
        "    {\n",
        "        \"id\": \"doc11\",\n",
        "        \"title\": \"Customer Support Procedures\",\n",
        "        \"content\": \"Shoplite's multi-channel support infrastructure ensures comprehensive assistance across customer preferences. The tiered model begins with self-service options including knowledge bases, troubleshooting guides, and video tutorials addressing 60% of inquiries without agent intervention. Live chat serves as the primary real-time channel, available 24/7 through website and mobile apps. Automated chatbots handle straightforward queries, escalating to human agents for complex issues with under 2-minute wait times. Chat sessions handle order modifications, basic account issues, and policy questions, with transcripts automatically emailed. Email support manages less urgent inquiries through a ticketing system. Categorization algorithms route messages to specialized teams, with service level agreements guaranteeing responses within 4 hours for standard issues and 1 hour for urgent matters. Telephone support reserves voice communication for complex scenarios requiring detailed discussion. Verified account ownership through multi-factor authentication precedes account-specific discussions. Call routing directs customers to specialized departments with average hold times under 3 minutes.\"\n",
        "    },\n",
        "    {\n",
        "        \"id\": \"doc12\",\n",
        "        \"title\": \"Mobile App Features\",\n",
        "        \"content\": \"The Shoplite mobile application delivers optimized shopping experiences through iOS and Android platforms, leveraging device capabilities unavailable through traditional web interfaces. The app's authentication system incorporates biometric login options including Touch ID, Face ID, and fingerprint recognition, eliminating password memorization while enhancing security. Enhanced search functionality capitalizes on mobile-specific capabilities beyond traditional text input. Visual search technology enables product discovery through camera captures or existing photos, with computer vision algorithms identifying items and finding similar products within our catalog. Barcode scanning provides instant product identification and price comparison, particularly useful when shopping in physical retail environments. Voice search understands natural language queries, processing spoken requests through advanced speech recognition technology. Personalization engines within the mobile app deliver context-aware shopping experiences. Location-based services trigger relevant notifications when users approach physical stores carrying products from their wishlists or recent searches. Push notification systems maintain customer engagement through carefully timed, relevant messaging.\"\n",
        "    },\n",
        "    {\n",
        "        \"id\": \"doc13\",\n",
        "        \"title\": \"API Documentation for Developers\",\n",
        "        \"content\": \"The Shoplite API ecosystem provides comprehensive programmatic access to marketplace functionality through RESTful architectural principles. All API endpoints utilize HTTPS encryption with JSON request/response formatting, ensuring standardized communication across diverse programming environments. Authentication employs OAuth 2.0 protocol with both client credentials flow for server-to-server communication and authorization code flow for user-facing applications. Rate limiting policies balance system protection with developer needs through tiered allocation structures. Basic developer accounts receive 1,000 requests per hour across all endpoints, sufficient for small-scale integrations and development testing. Professional tier increases to 10,000 requests hourly with additional endpoints access, suitable for production applications with moderate traffic. Core API categories encompass the complete Shoplite platform functionality. Product API endpoints provide access to catalog information including detailed product data, inventory levels, pricing history, and customer reviews. Order API methods enable order creation, status retrieval, and management operations for authorized sellers.\"\n",
        "    },\n",
        "    {\n",
        "        \"id\": \"doc14\",\n",
        "        \"title\": \"Security and Privacy Policies\",\n",
        "        \"content\": \"Shoplite's security framework implements defense-in-depth principles across application, infrastructure, and organizational layers. Data encryption protects information both in transit and at rest, utilizing TLS 1.3 for network transmission and AES-256 encryption for stored data. Key management follows industry best practices with regular rotation and secure storage in hardware security modules. Access control systems enforce least-privilege principles through role-based permissions and mandatory multi-factor authentication for administrative accounts. User authentication incorporates adaptive risk assessment, evaluating login attempts based on device recognition, geographic patterns, and behavioral biometrics. Vulnerability management programs proactively identify and address potential security weaknesses. Automated scanning tools continuously assess applications and infrastructure for known vulnerabilities, with severity-based prioritization guiding remediation efforts. Privacy controls empower users with granular data management capabilities through comprehensive preference centers. Data export functionality enables users to download complete personal information archives in standardized formats.\"\n",
        "    },\n",
        "    {\n",
        "        \"id\": \"doc15\",\n",
        "        \"title\": \"Promotional Codes and Discounts\",\n",
        "        \"content\": \"Shoplite's promotional engine supports diverse discount strategies through flexible code configuration and targeted application rules. Promotion types include percentage discounts (10% off, 25% off), fixed amount reductions ($10 off, $50 off), free shipping offers, and bundle deals (buy one get one). Each promotion type serves specific business objectives, from inventory clearance to customer acquisition to average order value increase. Code generation options accommodate various marketing channel requirements. Public codes distribute broadly through email campaigns, social media, and advertising with minimal restrictions. Private codes target specific customer segments through personalized communications with usage limits per recipient. Single-use codes provide exclusive offers for high-value customers or complaint resolution. Eligibility rules ensure promotional effectiveness while controlling costs. Minimum purchase requirements prevent discount application to small orders where processing costs outweigh margin. Category restrictions focus discounts on strategic product groups while excluding low-margin or already discounted items.\"\n",
        "    },\n",
        "    {\n",
        "        \"id\": \"doc16\",\n",
        "        \"title\": \"Shipping and Logistics Management\",\n",
        "        \"content\": \"Shoplite's shipping infrastructure integrates multiple carrier solutions with customizable seller configurations to balance cost, speed, and reliability. Carrier partnerships span national providers (FedEx, UPS, USPS), regional specialists, and local delivery services, ensuring comprehensive coverage across diverse geographic markets. Real-time rate calculation during checkout considers package dimensions, weight, destination, and service level, presenting customers with multiple options balancing delivery speed against cost considerations. Shipping rule configurations empower sellers with granular control over delivery options and costs. Flat rate shipping sets consistent prices regardless of order characteristics, simplifying customer expectations. Calculated shipping dynamically prices based on actual carrier rates with optional markup percentages or fixed surcharges. Free shipping thresholds trigger waived delivery costs when order values exceed configured minimums, effectively increasing average order values. International shipping management handles cross-border complexities through automated documentation and compliance checks.\"\n",
        "    },\n",
        "    {\n",
        "        \"id\": \"doc17\",\n",
        "        \"title\": \"Customer Loyalty Program\",\n",
        "        \"content\": \"The Shoplite Rewards program structures member benefits through tiered progression systems that increase value with customer engagement. Membership begins at Silver tier (0-999 points), progressing to Gold (1,000-4,999 points), and culminating at Platinum (5,000+ points). Each tier unlocks additional benefits including earning multipliers, exclusive promotions, and enhanced services. Point accumulation follows multifaceted earning strategies across customer engagement activities. Base earning rates provide 1 point per dollar spent on all purchases, with category bonuses during promotional periods offering 2-5 points per dollar in targeted departments. Non-purchase activities generate additional points, including product review submission (50 points), social media sharing (25 points), referral conversions (500 points), and profile completion (100 points). Redemption options provide flexibility in reward utilization across different customer preference segments. Discount conversion allows point redemption for shopping credits at standardized rates (100 points = $1), applicable toward future purchases. Charitable donation options enable point conversion to monetary contributions for partnered nonprofit organizations.\"\n",
        "    },\n",
        "    {\n",
        "        \"id\": \"doc18\",\n",
        "        \"title\": \"Marketplace Quality Standards\",\n",
        "        \"content\": \"Shoplite's marketplace quality framework establishes minimum performance thresholds maintaining customer experience consistency across diverse sellers. Seller performance metrics encompass order fulfillment rates, cancellation percentages, and customer satisfaction scores. The fulfillment rate requirement mandates 95% successful order completion within promised timeframes, measuring reliability in delivering purchased items. Cancellation rate thresholds maintain below 2% except for documented inventory discrepancies or customer-requested cancellations, ensuring order commitment integrity. Product listing standards enforce accuracy and completeness requirements across all marketplace offerings. Title formatting prohibits excessive keyword stuffing while requiring clear product identification. Image requirements mandate minimum resolution standards, multiple angle coverage, and scale context through lifestyle shots or size comparison objects. Description completeness ensures comprehensive feature enumeration, accurate dimension reporting, and honest condition assessments for non-new items. Prohibited items policies delineate products unsuitable for marketplace distribution due to legal restrictions, safety concerns, or brand protection requirements.\"\n",
        "    }\n",
        "]\n",
        "\n",
        "print(f\"✅ Loaded {len(knowledge_base)} documents into knowledge base\")\n",
        "print(\"Document titles:\")\n",
        "for doc in knowledge_base:\n",
        "    print(f\"  - {doc['id']}: {doc['title']}\")\n"
      ],
      "metadata": {
        "colab": {
          "base_uri": "https://localhost:8080/"
        },
        "id": "aSi6MViARrdk",
        "outputId": "b48daf4a-0de8-4899-9670-f67044ce98af"
      },
      "execution_count": 4,
      "outputs": [
        {
          "output_type": "stream",
          "name": "stdout",
          "text": [
            "✅ Loaded 18 documents into knowledge base\n",
            "Document titles:\n",
            "  - doc1: Shoplite User Registration Process\n",
            "  - doc2: Product Search and Filtering Features\n",
            "  - doc3: Shopping Cart and Checkout Process\n",
            "  - doc4: Payment Methods and Security\n",
            "  - doc5: Order Tracking and Delivery\n",
            "  - doc6: Return and Refund Policies\n",
            "  - doc7: Product Reviews and Ratings System\n",
            "  - doc8: Seller Account Setup and Management\n",
            "  - doc9: Inventory Management for Sellers\n",
            "  - doc10: Commission and Fee Structure\n",
            "  - doc11: Customer Support Procedures\n",
            "  - doc12: Mobile App Features\n",
            "  - doc13: API Documentation for Developers\n",
            "  - doc14: Security and Privacy Policies\n",
            "  - doc15: Promotional Codes and Discounts\n",
            "  - doc16: Shipping and Logistics Management\n",
            "  - doc17: Customer Loyalty Program\n",
            "  - doc18: Marketplace Quality Standards\n"
          ]
        }
      ]
    },
    {
      "cell_type": "code",
      "source": [
        "# Cell 5: Load a Proven, Reliable Model\n",
        "print(\"🔄 Loading a reliable model...\")\n",
        "\n",
        "# Use distilgpt2 - it's small, fast, and reliable\n",
        "model_name = \"distilgpt2\"\n",
        "\n",
        "try:\n",
        "    tokenizer = AutoTokenizer.from_pretrained(model_name)\n",
        "    model = AutoModelForCausalLM.from_pretrained(model_name)\n",
        "\n",
        "    # Set padding token\n",
        "    if tokenizer.pad_token is None:\n",
        "        tokenizer.pad_token = tokenizer.eos_token\n",
        "\n",
        "    # Quick test to verify model works\n",
        "    test_input = tokenizer(\"Hello, \", return_tensors=\"pt\")\n",
        "    test_output = model.generate(\n",
        "        test_input.input_ids,\n",
        "        max_new_tokens=10,\n",
        "        temperature=0.7\n",
        "    )\n",
        "    test_response = tokenizer.decode(test_output[0], skip_special_tokens=True)\n",
        "\n",
        "    print(f\"✅ Model '{model_name}' loaded successfully\")\n",
        "    print(f\"   Test response: '{test_response}'\")\n",
        "\n",
        "except Exception as e:\n",
        "    print(f\"❌ Model loading failed: {e}\")\n",
        "    # We'll handle this if it happens\n"
      ],
      "metadata": {
        "colab": {
          "base_uri": "https://localhost:8080/"
        },
        "id": "y_I_wPPdRueQ",
        "outputId": "45340380-86b4-43ba-e729-3c9ae8d84f70"
      },
      "execution_count": 5,
      "outputs": [
        {
          "output_type": "stream",
          "name": "stdout",
          "text": [
            "🔄 Loading a reliable model...\n"
          ]
        },
        {
          "output_type": "stream",
          "name": "stderr",
          "text": [
            "/usr/local/lib/python3.12/dist-packages/huggingface_hub/utils/_auth.py:94: UserWarning: \n",
            "The secret `HF_TOKEN` does not exist in your Colab secrets.\n",
            "To authenticate with the Hugging Face Hub, create a token in your settings tab (https://huggingface.co/settings/tokens), set it as secret in your Google Colab and restart your session.\n",
            "You will be able to reuse this secret in all of your notebooks.\n",
            "Please note that authentication is recommended but still optional to access public models or datasets.\n",
            "  warnings.warn(\n",
            "The following generation flags are not valid and may be ignored: ['temperature']. Set `TRANSFORMERS_VERBOSITY=info` for more details.\n",
            "The attention mask and the pad token id were not set. As a consequence, you may observe unexpected behavior. Please pass your input's `attention_mask` to obtain reliable results.\n",
            "Setting `pad_token_id` to `eos_token_id`:50256 for open-end generation.\n",
            "The attention mask is not set and cannot be inferred from input because pad token is same as eos token. As a consequence, you may observe unexpected behavior. Please pass your input's `attention_mask` to obtain reliable results.\n"
          ]
        },
        {
          "output_type": "stream",
          "name": "stdout",
          "text": [
            "✅ Model 'distilgpt2' loaded successfully\n",
            "   Test response: 'Hello,  \n",
            "\n",
            "\n",
            "\n",
            "\n",
            "\n",
            "\n",
            "\n",
            "\n",
            "'\n"
          ]
        }
      ]
    },
    {
      "cell_type": "code",
      "source": [
        "# Cell 6: Simple Keyword Retrieval\n",
        "def simple_retrieve(query, docs=knowledge_base, top_k=2):\n",
        "    query_lower = query.lower()\n",
        "    relevant_docs = []\n",
        "\n",
        "    for doc in docs:\n",
        "        content = doc['content'].lower()\n",
        "        title = doc['title'].lower()\n",
        "\n",
        "        # Simple keyword matching\n",
        "        score = sum(1 for word in query_lower.split() if word in content or word in title)\n",
        "        if score > 0:\n",
        "            relevant_docs.append(doc)\n",
        "            if len(relevant_docs) >= top_k:\n",
        "                break\n",
        "\n",
        "    return relevant_docs\n",
        "\n",
        "print(\"✅ Retrieval function defined\")\n"
      ],
      "metadata": {
        "colab": {
          "base_uri": "https://localhost:8080/"
        },
        "id": "552OSidaRyVN",
        "outputId": "4cb181a7-5b9d-449c-e769-de27271d32a8"
      },
      "execution_count": 6,
      "outputs": [
        {
          "output_type": "stream",
          "name": "stdout",
          "text": [
            "✅ Retrieval function defined\n"
          ]
        }
      ]
    },
    {
      "cell_type": "code",
      "source": [
        "# Cell 7: Flask App with Robust Endpoints\n",
        "app = Flask(__name__)\n",
        "\n",
        "@app.route('/health', methods=['GET'])\n",
        "def health():\n",
        "    return jsonify({\n",
        "        \"status\": \"healthy\",\n",
        "        \"model\": model_name,\n",
        "        \"knowledge_base_size\": len(knowledge_base),\n",
        "        \"message\": \"Week 3 LLM endpoint ready for Week 5\"\n",
        "    })\n",
        "\n",
        "@app.route('/generate', methods=['POST', 'GET'])\n",
        "def generate():\n",
        "    \"\"\"Robust text generation for Week 5\"\"\"\n",
        "    try:\n",
        "        # If it's a GET request, return a simple test response\n",
        "        if request.method == 'GET':\n",
        "            return jsonify({\n",
        "                \"message\": \"Generate endpoint is working\",\n",
        "                \"usage\": \"Send POST request with {'prompt':'your text','max_tokens':50}\"\n",
        "            })\n",
        "        data = request.json\n",
        "        prompt = data.get('prompt', 'Hello, how can I help you?')\n",
        "        max_tokens = data.get('max_tokens', 100)\n",
        "\n",
        "        # Ensure we have a proper prompt\n",
        "        if not prompt.strip():\n",
        "            prompt = \"Please provide a helpful response:\"\n",
        "\n",
        "        # Tokenize\n",
        "        inputs = tokenizer(prompt, return_tensors=\"pt\", max_length=512, truncation=True, padding=True)\n",
        "\n",
        "        # Generate\n",
        "        with torch.no_grad():\n",
        "            outputs = model.generate(\n",
        "                inputs.input_ids,\n",
        "                attention_mask=inputs.attention_mask,\n",
        "                max_new_tokens=max_tokens,\n",
        "                temperature=0.8,\n",
        "                do_sample=True,\n",
        "                pad_token_id=tokenizer.eos_token_id\n",
        "            )\n",
        "\n",
        "        # Decode\n",
        "        full_text = tokenizer.decode(outputs[0], skip_special_tokens=True)\n",
        "\n",
        "        # Extract response after prompt\n",
        "        if full_text.startswith(prompt):\n",
        "            response = full_text[len(prompt):].strip()\n",
        "        else:\n",
        "            response = full_text.strip()\n",
        "\n",
        "        # Fallback for empty responses\n",
        "        if not response:\n",
        "            response = \"I'm here to help with Shoplite questions. How can I assist you?\"\n",
        "\n",
        "        return jsonify({\n",
        "            \"text\": response,\n",
        "            \"model\": model_name,\n",
        "            \"tokens_generated\": max_tokens\n",
        "        })\n",
        "\n",
        "    except Exception as e:\n",
        "        return jsonify({\n",
        "            \"error\": str(e),\n",
        "            \"fallback\": \"Technical issue - please try again\"\n",
        "        }), 500\n",
        "\n",
        "print(\"✅ Flask app routes defined\")\n"
      ],
      "metadata": {
        "colab": {
          "base_uri": "https://localhost:8080/"
        },
        "id": "ngj4ej3dR13v",
        "outputId": "cc31ba10-e1d0-4a0e-c372-adb085d407f0"
      },
      "execution_count": 7,
      "outputs": [
        {
          "output_type": "stream",
          "name": "stdout",
          "text": [
            "✅ Flask app routes defined\n"
          ]
        }
      ]
    },
    {
      "cell_type": "code",
      "source": [
        "# Cell 8: Start Flask Server in Background\n",
        "def run_flask():\n",
        "    app.run(host='0.0.0.0', port=5000, debug=False, use_reloader=False)\n",
        "\n",
        "print(\"Starting Flask server...\")\n",
        "flask_thread = threading.Thread(target=run_flask)\n",
        "flask_thread.daemon = True\n",
        "flask_thread.start()\n",
        "\n",
        "# Wait for server to start\n",
        "time.sleep(3)\n",
        "print(\"✅ Flask server running on port 5000\")\n"
      ],
      "metadata": {
        "colab": {
          "base_uri": "https://localhost:8080/"
        },
        "id": "EZulUoVAR6P8",
        "outputId": "7433b61f-e7e1-40e3-cdea-0e6056fd8df1"
      },
      "execution_count": 8,
      "outputs": [
        {
          "output_type": "stream",
          "name": "stdout",
          "text": [
            "Starting Flask server...\n",
            " * Serving Flask app '__main__'\n",
            " * Debug mode: off\n"
          ]
        },
        {
          "output_type": "stream",
          "name": "stderr",
          "text": [
            "INFO:werkzeug:\u001b[31m\u001b[1mWARNING: This is a development server. Do not use it in a production deployment. Use a production WSGI server instead.\u001b[0m\n",
            " * Running on all addresses (0.0.0.0)\n",
            " * Running on http://127.0.0.1:5000\n",
            " * Running on http://172.28.0.12:5000\n",
            "INFO:werkzeug:\u001b[33mPress CTRL+C to quit\u001b[0m\n"
          ]
        },
        {
          "output_type": "stream",
          "name": "stdout",
          "text": [
            "✅ Flask server running on port 5000\n"
          ]
        }
      ]
    },
    {
      "cell_type": "code",
      "source": [
        "# Cell 9: Setup Ngrok Tunnel\n",
        "print(\"Setting up ngrok tunnel...\")\n",
        "\n",
        "# You'll need to enter your ngrok token here\n",
        "try:\n",
        "    ngrok_token = input(\"Enter your ngrok auth token: \").strip()\n",
        "    ngrok.set_auth_token(ngrok_token)\n",
        "\n",
        "    public_url = ngrok.connect(5000).public_url\n",
        "    print(f\"🎯 Public URL: {public_url}\")\n",
        "    print(f\"🔧 Health endpoint: {public_url}/health\")\n",
        "    print(f\"⚡ Generate endpoint: {public_url}/generate\")\n",
        "\n",
        "except Exception as e:\n",
        "    print(f\"❌ Ngrok setup failed: {e}\")\n",
        "    public_url = \"https://your-ngrok-url.ngrok.io\"  # Fallback\n"
      ],
      "metadata": {
        "colab": {
          "base_uri": "https://localhost:8080/"
        },
        "id": "NzyZ1V-fSBDS",
        "outputId": "df9b4080-439e-43f2-9e89-3c57917423ad"
      },
      "execution_count": 9,
      "outputs": [
        {
          "output_type": "stream",
          "name": "stdout",
          "text": [
            "Setting up ngrok tunnel...\n",
            "Enter your ngrok auth token: 33VpwGbuVEllhpbTSo5Nq4C7Zza_4HBbwbpJo4uRHwnfjEERk\n",
            "🎯 Public URL: https://matilda-nonallelic-malaysia.ngrok-free.dev\n",
            "🔧 Health endpoint: https://matilda-nonallelic-malaysia.ngrok-free.dev/health\n",
            "⚡ Generate endpoint: https://matilda-nonallelic-malaysia.ngrok-free.dev/generate\n"
          ]
        }
      ]
    },
    {
      "cell_type": "code",
      "source": [
        "# Cell 10: Comprehensive Testing\n",
        "print(\"🧪 Testing all endpoints...\")\n",
        "print(\"=\" * 50)\n",
        "\n",
        "# Use the public URL from previous cell\n",
        "url = public_url\n",
        "\n",
        "# Test 1: Health endpoint\n",
        "print(\"1. Testing /health...\")\n",
        "try:\n",
        "    health = requests.get(f\"{url}/health\")\n",
        "    print(f\"   Status: {health.status_code}\")\n",
        "    if health.status_code == 200:\n",
        "        print(\"   ✅ Health endpoint working!\")\n",
        "    else:\n",
        "        print(f\"   ❌ Health failed: {health.text}\")\n",
        "except Exception as e:\n",
        "    print(f\"   ❌ Health error: {e}\")\n",
        "\n",
        "# Test 2: Generate endpoint\n",
        "print(\"\\n2. Testing /generate...\")\n",
        "test_prompts = [\n",
        "    \"Hello! What is Shoplite?\",\n",
        "    \"What is your return policy?\",\n",
        "    \"How do I track my order?\"\n",
        "]\n",
        "\n",
        "for i, prompt in enumerate(test_prompts, 1):\n",
        "    print(f\"   Test {i}: '{prompt}'\")\n",
        "    try:\n",
        "        data = {\"prompt\": prompt, \"max_tokens\": 50}\n",
        "        response = requests.post(f\"{url}/generate\", json=data, timeout=10)\n",
        "\n",
        "        if response.status_code == 200:\n",
        "            result = response.json()\n",
        "            text = result.get('text', 'No text')\n",
        "            print(f\"      ✅ Response: '{text}'\")\n",
        "        else:\n",
        "            print(f\"      ❌ Failed: {response.status_code} - {response.text}\")\n",
        "\n",
        "    except Exception as e:\n",
        "        print(f\"      ❌ Error: {e}\")\n",
        "\n",
        "print(\"\\n\" + \"=\" * 50)\n",
        "print(\"🎉 Testing complete! Your Week 3 endpoint is ready for Week 5!\")\n"
      ],
      "metadata": {
        "colab": {
          "base_uri": "https://localhost:8080/"
        },
        "id": "biFyu4g9SE6g",
        "outputId": "95a55b31-17b1-4d82-faf7-bf90a7a3b207"
      },
      "execution_count": 10,
      "outputs": [
        {
          "output_type": "stream",
          "name": "stderr",
          "text": [
            "INFO:werkzeug:127.0.0.1 - - [21/Oct/2025 16:34:11] \"GET /health HTTP/1.1\" 200 -\n"
          ]
        },
        {
          "output_type": "stream",
          "name": "stdout",
          "text": [
            "🧪 Testing all endpoints...\n",
            "==================================================\n",
            "1. Testing /health...\n",
            "   Status: 200\n",
            "   ✅ Health endpoint working!\n",
            "\n",
            "2. Testing /generate...\n",
            "   Test 1: 'Hello! What is Shoplite?'\n"
          ]
        },
        {
          "output_type": "stream",
          "name": "stderr",
          "text": [
            "INFO:werkzeug:127.0.0.1 - - [21/Oct/2025 16:34:15] \"POST /generate HTTP/1.1\" 200 -\n"
          ]
        },
        {
          "output_type": "stream",
          "name": "stdout",
          "text": [
            "      ✅ Response: 'The shoplifter is a game with a simple level system. It is a way to connect to the community, to buy items, and to do so through the system. It is an alternative game where you could just buy items from the shops,'\n",
            "   Test 2: 'What is your return policy?'\n"
          ]
        },
        {
          "output_type": "stream",
          "name": "stderr",
          "text": [
            "WARNING:pyngrok.process.ngrok:t=2025-10-21T16:34:16+0000 lvl=warn msg=\"failed to check for update\" obj=updater err=\"Post \\\"https://update.equinox.io/check\\\": context deadline exceeded\"\n",
            "INFO:werkzeug:127.0.0.1 - - [21/Oct/2025 16:34:19] \"POST /generate HTTP/1.1\" 200 -\n"
          ]
        },
        {
          "output_type": "stream",
          "name": "stdout",
          "text": [
            "      ✅ Response: 'Is your current policy changed?'\n",
            "   Test 3: 'How do I track my order?'\n"
          ]
        },
        {
          "output_type": "stream",
          "name": "stderr",
          "text": [
            "INFO:werkzeug:127.0.0.1 - - [21/Oct/2025 16:34:23] \"POST /generate HTTP/1.1\" 200 -\n"
          ]
        },
        {
          "output_type": "stream",
          "name": "stdout",
          "text": [
            "      ✅ Response: '›\n",
            "The order is in the range of 12-16, and I'll try to do exactly that, but I can't tell you its a straight line. It's not an easy one to get around, and I'm not sure if'\n",
            "\n",
            "==================================================\n",
            "🎉 Testing complete! Your Week 3 endpoint is ready for Week 5!\n"
          ]
        }
      ]
    },
    {
      "cell_type": "code",
      "source": [
        "# Check if Flask is running\n",
        "import requests\n",
        "try:\n",
        "    response = requests.get(\"http://localhost:5000/health\", timeout=5)\n",
        "    print(\"✅ Flask is running locally:\", response.json())\n",
        "except:\n",
        "    print(\"❌ Flask is NOT running locally\")\n",
        "\n",
        "# Check ngrok status\n",
        "try:\n",
        "    from pyngrok import ngrok\n",
        "    tunnels = ngrok.get_tunnels()\n",
        "    print(\"✅ Ngrok tunnels:\", tunnels)\n",
        "except Exception as e:\n",
        "    print(\"❌ Ngrok issue:\", e)\n"
      ],
      "metadata": {
        "colab": {
          "base_uri": "https://localhost:8080/"
        },
        "id": "3j94jUQxRfXA",
        "outputId": "cdf44702-33bb-4707-97a4-47cca8efba4e"
      },
      "execution_count": 11,
      "outputs": [
        {
          "output_type": "stream",
          "name": "stderr",
          "text": [
            "INFO:werkzeug:127.0.0.1 - - [21/Oct/2025 16:34:23] \"GET /health HTTP/1.1\" 200 -\n"
          ]
        },
        {
          "output_type": "stream",
          "name": "stdout",
          "text": [
            "✅ Flask is running locally: {'knowledge_base_size': 18, 'message': 'Week 3 LLM endpoint ready for Week 5', 'model': 'distilgpt2', 'status': 'healthy'}\n",
            "✅ Ngrok tunnels: [<NgrokTunnel: \"https://matilda-nonallelic-malaysia.ngrok-free.dev\" -> \"http://localhost:5000\">]\n"
          ]
        }
      ]
    },
    {
      "cell_type": "code",
      "source": [
        "# Test the endpoint from within Colab\n",
        "import requests\n",
        "url = \"http://localhost:5000\"  # Local test\n",
        "\n",
        "try:\n",
        "    # Test health\n",
        "    health = requests.get(f\"{url}/health\")\n",
        "    print(\"Health:\", health.status_code, health.json())\n",
        "\n",
        "    # Test generate\n",
        "    data = {\"prompt\": \"Test prompt\", \"max_tokens\": 30}\n",
        "    gen = requests.post(f\"{url}/generate\", json=data)\n",
        "    print(\"Generate:\", gen.status_code, gen.json())\n",
        "\n",
        "except Exception as e:\n",
        "    print(\"Error:\", e)\n"
      ],
      "metadata": {
        "colab": {
          "base_uri": "https://localhost:8080/"
        },
        "id": "cUC5XQMnRsJ_",
        "outputId": "8b6bf24a-9cc6-42de-a4e1-f33097a8d7b8"
      },
      "execution_count": 12,
      "outputs": [
        {
          "output_type": "stream",
          "name": "stderr",
          "text": [
            "INFO:werkzeug:127.0.0.1 - - [21/Oct/2025 16:34:23] \"GET /health HTTP/1.1\" 200 -\n"
          ]
        },
        {
          "output_type": "stream",
          "name": "stdout",
          "text": [
            "Health: 200 {'knowledge_base_size': 18, 'message': 'Week 3 LLM endpoint ready for Week 5', 'model': 'distilgpt2', 'status': 'healthy'}\n"
          ]
        },
        {
          "output_type": "stream",
          "name": "stderr",
          "text": [
            "INFO:werkzeug:127.0.0.1 - - [21/Oct/2025 16:34:28] \"POST /generate HTTP/1.1\" 200 -\n"
          ]
        },
        {
          "output_type": "stream",
          "name": "stdout",
          "text": [
            "Generate: 200 {'model': 'distilgpt2', 'text': \"I'm here to help with Shoplite questions. How can I assist you?\", 'tokens_generated': 30}\n"
          ]
        }
      ]
    },
    {
      "cell_type": "code",
      "source": [
        "# Phase 3 Local Test\n",
        "import requests\n",
        "\n",
        "def test_phase_3_locally():\n",
        "    base_url = \"http://localhost:5000\"  # Local Flask\n",
        "\n",
        "    # Simulate Phase 3 assistant calls\n",
        "    test_prompts = [\n",
        "        \"What is Shoplite's return policy?\",\n",
        "        \"How do I create an account?\",\n",
        "        \"Can you help me track my order?\"\n",
        "    ]\n",
        "\n",
        "    for prompt in test_prompts:\n",
        "        print(f\"🧠 Testing: '{prompt}'\")\n",
        "\n",
        "        # Build a proper grounded prompt (like Phase 3 would)\n",
        "        grounded_prompt = f\"\"\"\n",
        "        You are a Shoplite customer service assistant. Answer the following question helpfully:\n",
        "\n",
        "        Question: {prompt}\n",
        "\n",
        "        Answer: \"\"\"\n",
        "\n",
        "        data = {\"prompt\": grounded_prompt, \"max_tokens\": 100}\n",
        "        response = requests.post(f\"{base_url}/generate\", json=data)\n",
        "\n",
        "        if response.status_code == 200:\n",
        "            result = response.json()\n",
        "            print(f\"✅ Response: {result['text']}\")\n",
        "        else:\n",
        "            print(f\"❌ Failed: {response.status_code}\")\n",
        "        print(\"-\" * 50)\n",
        "\n",
        "test_phase_3_locally()\n"
      ],
      "metadata": {
        "colab": {
          "base_uri": "https://localhost:8080/"
        },
        "id": "2RuS5iMxn3sk",
        "outputId": "aea1847a-82d2-4519-cbcd-aad492297743"
      },
      "execution_count": 13,
      "outputs": [
        {
          "output_type": "stream",
          "name": "stdout",
          "text": [
            "🧠 Testing: 'What is Shoplite's return policy?'\n"
          ]
        },
        {
          "output_type": "stream",
          "name": "stderr",
          "text": [
            "INFO:werkzeug:127.0.0.1 - - [21/Oct/2025 16:34:53] \"POST /generate HTTP/1.1\" 200 -\n"
          ]
        },
        {
          "output_type": "stream",
          "name": "stdout",
          "text": [
            "✅ Response: I'm here to help with Shoplite questions. How can I assist you?\n",
            "--------------------------------------------------\n",
            "🧠 Testing: 'How do I create an account?'\n"
          ]
        },
        {
          "output_type": "stream",
          "name": "stderr",
          "text": [
            "INFO:werkzeug:127.0.0.1 - - [21/Oct/2025 16:34:57] \"POST /generate HTTP/1.1\" 200 -\n"
          ]
        },
        {
          "output_type": "stream",
          "name": "stdout",
          "text": [
            "✅ Response: ? Answer:\n",
            "--------------------------------------------------\n",
            "🧠 Testing: 'Can you help me track my order?'\n"
          ]
        },
        {
          "output_type": "stream",
          "name": "stderr",
          "text": [
            "INFO:werkzeug:127.0.0.1 - - [21/Oct/2025 16:35:03] \"POST /generate HTTP/1.1\" 200 -\n"
          ]
        },
        {
          "output_type": "stream",
          "name": "stdout",
          "text": [
            "✅ Response: I'm here to help with Shoplite questions. How can I assist you?\n",
            "--------------------------------------------------\n"
          ]
        }
      ]
    }
  ]
}